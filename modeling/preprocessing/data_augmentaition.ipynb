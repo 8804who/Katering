{
 "cells": [
  {
   "cell_type": "code",
   "execution_count": null,
   "metadata": {},
   "outputs": [],
   "source": [
    "from eda import EDA\n",
    "import pandas as pd\n",
    "import random"
   ]
  },
  {
   "cell_type": "code",
   "execution_count": null,
   "metadata": {},
   "outputs": [],
   "source": [
    "df = pd.read_csv('../data/data.csv')"
   ]
  },
  {
   "cell_type": "code",
   "execution_count": null,
   "metadata": {},
   "outputs": [],
   "source": [
    "title = []\n",
    "content=[]\n",
    "url=[]\n",
    "label=[]\n",
    "summarization=[]"
   ]
  },
  {
   "cell_type": "code",
   "execution_count": null,
   "metadata": {},
   "outputs": [],
   "source": [
    "category=['대출','펀드','예금','골드','주택청약','신탁','보험공제','적금','외화예금','ISA']\n",
    "prob=[0.5,0.5,0.55,0.55,0.6,0.6,0.65,0.65,0.7,0.7]\n",
    "times=[1,1,1,1,2,2,2,2,3,3]\n",
    "for item in df.itertuples():\n",
    "    num = random.random()\n",
    "    cat_idx = -1\n",
    "    for i in range(10):\n",
    "        if item.label==category[i]:\n",
    "            cat_idx = i\n",
    "    if num<=prob[i]:\n",
    "        nums = []\n",
    "        while len(nums)<times[cat_idx]:\n",
    "            n = random.randint(0, 3)\n",
    "            if n not in nums:\n",
    "                nums.append(n)\n",
    "        for num in nums:\n",
    "            title.append(item.title)\n",
    "            content.append(item.content)\n",
    "            url.append(item.url)\n",
    "            label.append(item.label)\n",
    "            summarization.append(EDA(item.summarization, num))\n",
    "    "
   ]
  },
  {
   "cell_type": "code",
   "execution_count": null,
   "metadata": {},
   "outputs": [],
   "source": [
    "temp = pd.DataFrame({'title': title, 'content': content, 'url': url, 'label': label, 'summarization': summarization})"
   ]
  },
  {
   "cell_type": "code",
   "execution_count": null,
   "metadata": {},
   "outputs": [],
   "source": [
    "temp2 = pd.concat([df, temp])"
   ]
  },
  {
   "cell_type": "code",
   "execution_count": null,
   "metadata": {},
   "outputs": [],
   "source": [
    "temp2.to_csv('augmented_data.csv', index=False)"
   ]
  },
  {
   "cell_type": "code",
   "execution_count": null,
   "metadata": {},
   "outputs": [],
   "source": [
    "from collections import Counter\n",
    "counter=Counter(temp2.label)"
   ]
  },
  {
   "cell_type": "code",
   "execution_count": null,
   "metadata": {},
   "outputs": [],
   "source": [
    "counter"
   ]
  },
  {
   "cell_type": "code",
   "execution_count": null,
   "metadata": {},
   "outputs": [],
   "source": [
    "temp3 = pd.DataFrame({})\n",
    "\n",
    "for item in temp2.itertuples():\n",
    "    if item.label != '대출' and item.label != '펀드':\n",
    "        temp3 = pd.concat([temp3, pd.DataFrame({'title':[item.title], 'content': [item.content], 'url': [item.url], 'label': [item.label], 'summarization': [item.summarization]})])\n",
    "    elif item.label == '대출':\n",
    "        if random.random()>0.3:\n",
    "            temp3 = pd.concat([temp3, pd.DataFrame({'title':[item.title], 'content': [item.content], 'url': [item.url], 'label': [item.label], 'summarization': [item.summarization]})])\n",
    "    else:\n",
    "        if random.random()>0.2:\n",
    "            temp3 = pd.concat([temp3, pd.DataFrame({'title':[item.title], 'content': [item.content], 'url': [item.url], 'label': [item.label], 'summarization': [item.summarization]})])"
   ]
  },
  {
   "cell_type": "code",
   "execution_count": null,
   "metadata": {},
   "outputs": [],
   "source": [
    "from collections import Counter\n",
    "counter=Counter(temp3.label)\n",
    "counter"
   ]
  }
 ],
 "metadata": {
  "kernelspec": {
   "display_name": "Python 3",
   "language": "python",
   "name": "python3"
  },
  "language_info": {
   "codemirror_mode": {
    "name": "ipython",
    "version": 3
   },
   "file_extension": ".py",
   "mimetype": "text/x-python",
   "name": "python",
   "nbconvert_exporter": "python",
   "pygments_lexer": "ipython3",
   "version": "3.8.5"
  },
  "orig_nbformat": 4
 },
 "nbformat": 4,
 "nbformat_minor": 2
}
