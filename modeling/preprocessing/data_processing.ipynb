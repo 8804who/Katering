{
 "cells": [
  {
   "cell_type": "code",
   "execution_count": null,
   "metadata": {},
   "outputs": [],
   "source": [
    "import pandas as pd\n",
    "import numpy as np\n",
    "import unicodedata\n",
    "import os"
   ]
  },
  {
   "cell_type": "code",
   "execution_count": null,
   "metadata": {},
   "outputs": [],
   "source": [
    "filenames = os.listdir('data')\n",
    "\n",
    "for i in range(len(filenames)):\n",
    "    filenames[i] = unicodedata.normalize('NFKC', filenames[i].split('.')[0])"
   ]
  },
  {
   "cell_type": "code",
   "execution_count": null,
   "metadata": {},
   "outputs": [],
   "source": [
    "df_keyword = []\n",
    "\n",
    "df = pd.DataFrame()\n",
    "for filename in filenames:\n",
    "    temp1 = pd.read_csv('./data/'+filename+'.csv')\n",
    "    df = pd.concat([df, temp1])\n",
    "    temp2 = pd.read_csv('./data_plus/'+filename+'.csv')\n",
    "    df = pd.concat([df, temp2])\n",
    "    df_keyword.append(list(pd.concat([temp1, temp2]).content))"
   ]
  },
  {
   "cell_type": "code",
   "execution_count": null,
   "metadata": {},
   "outputs": [],
   "source": [
    "for i in range(10):\n",
    "    for j in range(len(df_keyword[i])):\n",
    "        df_keyword[i][j] = unicodedata.normalize('NFKC', df_keyword[i][j])"
   ]
  },
  {
   "cell_type": "code",
   "execution_count": null,
   "metadata": {},
   "outputs": [],
   "source": [
    "content_lengths = [len(content) for content in list(df.content)]"
   ]
  },
  {
   "cell_type": "code",
   "execution_count": null,
   "metadata": {},
   "outputs": [],
   "source": [
    "df['len'] = content_lengths"
   ]
  },
  {
   "cell_type": "code",
   "execution_count": null,
   "metadata": {},
   "outputs": [],
   "source": [
    "df = df.sort_values('len')"
   ]
  },
  {
   "cell_type": "code",
   "execution_count": null,
   "metadata": {},
   "outputs": [],
   "source": [
    "df = df.drop_duplicates('content')"
   ]
  },
  {
   "cell_type": "code",
   "execution_count": null,
   "metadata": {},
   "outputs": [],
   "source": [
    "df.describe()"
   ]
  },
  {
   "cell_type": "code",
   "execution_count": null,
   "metadata": {},
   "outputs": [],
   "source": [
    "df = df[(df.len>100) & (df.len<3000)]"
   ]
  },
  {
   "cell_type": "code",
   "execution_count": null,
   "metadata": {},
   "outputs": [],
   "source": [
    "df.describe()"
   ]
  },
  {
   "cell_type": "code",
   "execution_count": null,
   "metadata": {},
   "outputs": [],
   "source": [
    "new_label = []\n",
    "\n",
    "for item in df.itertuples():\n",
    "    word_count = [0 for _ in range(10)]\n",
    "    title = unicodedata.normalize('NFKC', item.title)\n",
    "    content = unicodedata.normalize('NFKC', item.content)\n",
    "\n",
    "    if content in df_keyword[3]:\n",
    "        new_label.append(filenames[3])\n",
    "        continue\n",
    "\n",
    "    for idx, word in enumerate(filenames):\n",
    "        word_count[idx] = 1.2 * title.count(word) + content.count(word)\n",
    "        \n",
    "    if sum(word_count)>0:\n",
    "        new_label.append(filenames[np.argmax(word_count)])\n",
    "    else:\n",
    "        candidate = []\n",
    "        \n",
    "        for i in range(10):\n",
    "            if content in df_keyword[i]:\n",
    "                candidate.append(i)\n",
    "        \n",
    "        new_label.append(filenames[candidate[np.random.randint(len(candidate))]])"
   ]
  },
  {
   "cell_type": "code",
   "execution_count": null,
   "metadata": {},
   "outputs": [],
   "source": [
    "from collections import Counter\n",
    "counter=Counter(new_label)"
   ]
  },
  {
   "cell_type": "code",
   "execution_count": null,
   "metadata": {},
   "outputs": [],
   "source": [
    "counter"
   ]
  },
  {
   "cell_type": "code",
   "execution_count": null,
   "metadata": {},
   "outputs": [],
   "source": [
    "df['label'] = new_label"
   ]
  },
  {
   "cell_type": "code",
   "execution_count": null,
   "metadata": {},
   "outputs": [],
   "source": [
    "df = df.drop(['len', 'keyword'], axis=1)"
   ]
  },
  {
   "cell_type": "code",
   "execution_count": null,
   "metadata": {},
   "outputs": [],
   "source": [
    "df.to_csv('종합 데이터.csv', index=False)"
   ]
  },
  {
   "cell_type": "code",
   "execution_count": null,
   "metadata": {},
   "outputs": [],
   "source": [
    "d1 = pd.read_csv('종합 데이터.csv')\n",
    "summ = list(pd.read_csv('summ.csv').summ)\n",
    "\n",
    "d1['summarization'] = summ\n",
    "\n",
    "d1.to_csv('요약 데이터.csv', index=False)"
   ]
  }
 ],
 "metadata": {
  "kernelspec": {
   "display_name": "Python 3",
   "language": "python",
   "name": "python3"
  },
  "language_info": {
   "codemirror_mode": {
    "name": "ipython",
    "version": 3
   },
   "file_extension": ".py",
   "mimetype": "text/x-python",
   "name": "python",
   "nbconvert_exporter": "python",
   "pygments_lexer": "ipython3",
   "version": "3.11.3"
  },
  "orig_nbformat": 4
 },
 "nbformat": 4,
 "nbformat_minor": 2
}
