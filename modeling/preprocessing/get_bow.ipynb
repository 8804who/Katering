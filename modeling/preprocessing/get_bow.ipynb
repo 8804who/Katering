{
 "cells": [
  {
   "cell_type": "code",
   "execution_count": 16,
   "metadata": {},
   "outputs": [],
   "source": [
    "import pandas as pd\n",
    "from konlpy.tag import Okt\n",
    "from collections import defaultdict\n",
    "import os"
   ]
  },
  {
   "cell_type": "code",
   "execution_count": 17,
   "metadata": {},
   "outputs": [],
   "source": [
    "paths = os.listdir('data')\n",
    "okt=Okt()\n",
    "\n",
    "title_bow = defaultdict(int)\n",
    "title_content_bow = defaultdict(float)"
   ]
  },
  {
   "cell_type": "code",
   "execution_count": 18,
   "metadata": {},
   "outputs": [],
   "source": [
    "for path in paths:\n",
    "    data = pd.read_csv('./data/'+path)\n",
    "    titles, contents = list(data.title), list(data.content)\n",
    "\n",
    "    for title, content in zip(titles, contents):\n",
    "        malist = okt.pos(title)\n",
    "        for word in malist:\n",
    "            if word[1]=='Noun':\n",
    "                title_bow[word[0]]+=1\n",
    "                title_content_bow[word[0]]+=1.2\n",
    "        \n",
    "        malist = okt.pos(content)\n",
    "        for word in malist:\n",
    "            if word[1]=='Noun':\n",
    "                title_content_bow[word[0]]+=1"
   ]
  },
  {
   "cell_type": "code",
   "execution_count": 30,
   "metadata": {},
   "outputs": [],
   "source": [
    "words = []\n",
    "times = []\n",
    "for word in title_bow.keys():\n",
    "    if title_bow[word]>50:\n",
    "        words.append(word)\n",
    "        times.append(title_bow[word])\n",
    "new_df = pd.DataFrame({'word':words, 'time':times})\n",
    "new_df.sort_values('time', ascending=False).to_csv('title.csv',index=False)"
   ]
  },
  {
   "cell_type": "code",
   "execution_count": 33,
   "metadata": {},
   "outputs": [],
   "source": [
    "words = []\n",
    "times = []\n",
    "for word in title_content_bow.keys():\n",
    "    if title_content_bow[word]>1000:\n",
    "        words.append(word)\n",
    "        times.append(title_content_bow[word])\n",
    "new_df = pd.DataFrame({'word':words, 'time':times})\n",
    "new_df.sort_values('time', ascending=False).to_csv('title_content.csv',index=False)"
   ]
  }
 ],
 "metadata": {
  "kernelspec": {
   "display_name": "Python 3",
   "language": "python",
   "name": "python3"
  },
  "language_info": {
   "codemirror_mode": {
    "name": "ipython",
    "version": 3
   },
   "file_extension": ".py",
   "mimetype": "text/x-python",
   "name": "python",
   "nbconvert_exporter": "python",
   "pygments_lexer": "ipython3",
   "version": "3.11.3"
  },
  "orig_nbformat": 4
 },
 "nbformat": 4,
 "nbformat_minor": 2
}
